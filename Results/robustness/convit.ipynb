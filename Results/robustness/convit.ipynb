{
 "cells": [
  {
   "cell_type": "code",
   "execution_count": 21,
   "metadata": {},
   "outputs": [],
   "source": [
    "import numpy as np\n",
    "from matplotlib import pyplot as plt\n",
    "plt.style.use('../styles_and_utils/graphstyle.mplstyle')\n",
    "\n",
    "import sys\n",
    "sys.path.insert(1, '../')\n",
    "from styles_and_utils import *"
   ]
  },
  {
   "cell_type": "code",
   "execution_count": 36,
   "metadata": {},
   "outputs": [
    {
     "data": {
      "text/plain": [
       "Text(0, 0.5, 'SSIM')"
      ]
     },
     "execution_count": 36,
     "metadata": {},
     "output_type": "execute_result"
    },
    {
     "data": {
      "image/png": "[encoded data removed]",
      "text/plain": [
       "<Figure size 518.4x518.4 with 1 Axes>"
      ]
     },
     "metadata": {
      "needs_background": "light"
     },
     "output_type": "display_data"
    }
   ],
   "source": [
    "# w, h = plt.rcParams[\"figure.figsize\"]\n",
    "fig, ax = plt.subplots(1, 1, figsize=(w,w))\n",
    "\n",
    "\"\"\" Model styles \"\"\"\n",
    "vitl = ViT('l')\n",
    "\n",
    "\"\"\" Plot Knee \"\"\"\n",
    "plt.errorbar([0.907], [0.808], marker= 'o', color=vitl.color, label=vitl.label, zorder=4)\n",
    "plt.errorbar([0.908], [0.916], marker= 'o', color=vitl.color, label=vitl.label, zorder=4)\n",
    "plt.errorbar([0.911], [0.926], marker= 'o', color=vitl.color, label=vitl.label, zorder=4)\n",
    "plt.errorbar([0.918], [0.923], marker= 'o', color=vitl.color, label=vitl.label, zorder=4)\n",
    "plt.plot([0.905, 0.92], [0.905, 0.92], color = 'red')\n",
    "# ax.plot(knee_train_data, knee_unt_031M, untm.marker, markersize=untm.ms, alpha=untm.oc, color=untm.color, label=untm.label, zorder=3)\n",
    "\n",
    "# ax.set_title('Soft-convolutional inductive bias')\n",
    "# ax.set_xticks(knee_train_data)\n",
    "# ax.set_xticklabels(['2k', '17k', '35k'])\n",
    "# ax.tick_params(axis='x', which='minor', bottom=False)\n",
    "# ax.yaxis.set_ticks(np.arange(0.727, 0.745, 0.005))\n",
    "\n",
    "ax.set_xlim([0.905, 0.92])\n",
    "ax.xaxis.set_ticks(np.arange(0.905, 0.92, 0.005))\n",
    "ax.legend()\n",
    "# plt.gca().set_aspect('equal', adjustable='box')\n",
    "# Labels\n",
    "ax.set_xlabel('Training data')\n",
    "ax.set_ylabel('SSIM')\n",
    "\n",
    "## Save\n",
    "# fig.savefig('./plots/convit.pdf', format=\"pdf\", bbox_inches = 'tight')"
   ]
  },
  {
   "cell_type": "code",
   "execution_count": null,
   "metadata": {},
   "outputs": [],
   "source": []
  }
 ],
 "metadata": {
  "kernelspec": {
   "display_name": "Python 3",
   "language": "python",
   "name": "python3"
  },
  "language_info": {
   "codemirror_mode": {
    "name": "ipython",
    "version": 3
   },
   "file_extension": ".py",
   "mimetype": "text/x-python",
   "name": "python",
   "nbconvert_exporter": "python",
   "pygments_lexer": "ipython3",
   "version": "3.8.5"
  }
 },
 "nbformat": 4,
 "nbformat_minor": 4
}
