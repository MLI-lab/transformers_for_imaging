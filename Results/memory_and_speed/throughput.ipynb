{
 "cells": [
  {
   "cell_type": "code",
   "execution_count": 17,
   "metadata": {},
   "outputs": [],
   "source": [
    "import numpy as np\n",
    "from matplotlib import pyplot as plt\n",
    "plt.style.use('../styles_and_utils/graphstyle.mplstyle')\n",
    "\n",
    "import sys\n",
    "sys.path.insert(1, '../')\n",
    "from styles_and_utils import *"
   ]
  },
  {
   "cell_type": "code",
   "execution_count": 18,
   "metadata": {},
   "outputs": [],
   "source": [
    "# pandas\n",
    "import pandas as pd\n",
    "def df2np(df, model,):\n",
    "    df = df.loc[df['Model'] == model].iloc[0,1:]\n",
    "    x = df.to_numpy().astype(float).T\n",
    "    return x\n",
    "\n",
    "# Load Knee results\n",
    "df = pd.read_excel('throughput.xlsx')\n",
    "\n",
    "unt_008M = df2np(df, 'U-Net-8M')\n",
    "unt_031M = df2np(df, 'U-Net-31M')\n",
    "unt_124M = df2np(df, 'U-Net-124M')\n",
    "\n",
    "vit_008M = df2np(df, 'ViT-8M/10')\n",
    "vit_032M = df2np(df, 'ViT-32M/10')\n",
    "vit_060M = df2np(df, 'ViT-60M/10')\n"
   ]
  },
  {
   "cell_type": "code",
   "execution_count": 19,
   "metadata": {},
   "outputs": [
    {
     "data": {
      "image/png": "[encoded data removed]",
      "text/plain": [
       "<Figure size 864x226.8 with 3 Axes>"
      ]
     },
     "metadata": {
      "needs_background": "light"
     },
     "output_type": "display_data"
    }
   ],
   "source": [
    "w, h = plt.rcParams[\"figure.figsize\"]\n",
    "fig, axes = plt.subplots(1, 3, figsize=(2*w, 0.7*h))\n",
    "\n",
    "\"\"\" Model styles \"\"\"\n",
    "vits = ViT('s', useline=False)\n",
    "vitm = ViT('m', useline=False)\n",
    "vitl = ViT('l', useline=False)\n",
    "\n",
    "unts = Unet('s', useline=False)\n",
    "untm = Unet('m', useline=False)\n",
    "untl = Unet('l', useline=False)\n",
    "\n",
    "alpha = 0.85\n",
    "\"\"\" Training \"\"\"\n",
    "ax = axes[0]\n",
    "# ax.bar('ViT-\\n8M/10', vit_008M[0], color = vits.color, hatch = vits.hatch)\n",
    "# ax.bar('U-Net-\\n8M',  unt_008M[0], color = unts.color, hatch = unts.hatch)\n",
    "ax.bar('ViT-\\n32M/10',vit_032M[0], color = vitm.color, alpha=alpha, hatch = vitm.hatch)\n",
    "ax.bar('U-Net-\\n31M', unt_031M[0], color = untm.color, alpha=alpha, hatch = untm.hatch)\n",
    "ax.bar('ViT-\\n60M/10',vit_060M[0], color = vitl.color, alpha=alpha, hatch = vitl.hatch)\n",
    "ax.bar('U-Net-\\n124M',unt_124M[0], color = untl.color, alpha=alpha, hatch = untl.hatch)\n",
    "# ax.get_xaxis().set_visible(False)\n",
    "ax.set_title('Training')\n",
    "ax.set_xticks([])\n",
    "ax.set_xlabel('GPU')\n",
    "# ax.set_yticks([0, 1,  2, 3])\n",
    "\n",
    "\"\"\" Test \"\"\"\n",
    "ax = axes[1]\n",
    "# ax.bar('ViT-\\n8M/10', vit_008M[1], color = vits.color, hatch = vits.hatch)\n",
    "# ax.bar('U-Net-\\n8M',  unt_008M[1], color = unts.color, hatch = unts.hatch)\n",
    "ax.bar('ViT-\\n32M/10',vit_032M[1], color = vitm.color, alpha=alpha, hatch = vitm.hatch)\n",
    "ax.bar('U-Net-\\n31M', unt_031M[1], color = untm.color, alpha=alpha, hatch = untm.hatch)\n",
    "ax.bar('ViT-\\n60M/10',vit_060M[1], color = vitl.color, alpha=alpha, hatch = vitl.hatch)\n",
    "ax.bar('U-Net-\\n124M',unt_124M[1], color = untl.color, alpha=alpha, hatch = untl.hatch)\n",
    "ax.set_xticks([])\n",
    "ax.set_xlabel('GPU')\n",
    "ax.set_title('Inference')\n",
    "# ax.set_xlabel('(CPU)')\n",
    "# ax.set_yticks([0, 1,  2, 3])\n",
    "\n",
    "\"\"\" Test CPU \"\"\"\n",
    "ax = axes[2]\n",
    "# ax.bar('ViT-\\n8M/10', vit_008M[2], color = vits.color, hatch = vits.hatch, label = vits.label)\n",
    "# ax.bar('U-Net-\\n8M',  unt_008M[2], color = unts.color, hatch = unts.hatch, label = unts.label)\n",
    "ax.bar(1, vit_032M[2], color = vitm.color, hatch = vitm.hatch, alpha=alpha, label = vitm.label)\n",
    "ax.bar(3, vit_060M[2], color = vitl.color, hatch = vitl.hatch, alpha=alpha, label = vitl.label)\n",
    "ax.bar(2, unt_031M[2], color = untm.color, hatch = untm.hatch, alpha=alpha, label = untm.label)\n",
    "ax.bar(4, unt_124M[2], color = untl.color, hatch = untl.hatch, alpha=alpha, label = untl.label)\n",
    "ax.set_xticks([])\n",
    "ax.set_xlabel('CPU')\n",
    "ax.set_title('Inference')\n",
    "ax.set_yticks([0, 1, 2, 3, 4, 5])\n",
    "# ax.set_title('CPU')\n",
    "\n",
    "handles, labels = ax.get_legend_handles_labels()\n",
    "fig.legend(handles, labels,  ncol=4, loc='lower center',  bbox_to_anchor = (0.,-0.13,1,1))\n",
    "\n",
    "# Labels\n",
    "# fig.supxlabel('Memory in GiB', y=0.0, x=0.37)\n",
    "fig.supylabel('Samples per second', x=0.07, y=0.5)\n",
    "\n",
    "## Save\n",
    "# fig.tight_layout()\n",
    "fig.savefig('speed_memory.pdf', format=\"pdf\", bbox_inches = 'tight')"
   ]
  },
  {
   "cell_type": "code",
   "execution_count": null,
   "metadata": {},
   "outputs": [],
   "source": []
  }
 ],
 "metadata": {
  "kernelspec": {
   "display_name": "Python 3",
   "language": "python",
   "name": "python3"
  },
  "language_info": {
   "codemirror_mode": {
    "name": "ipython",
    "version": 3
   },
   "file_extension": ".py",
   "mimetype": "text/x-python",
   "name": "python",
   "nbconvert_exporter": "python",
   "pygments_lexer": "ipython3",
   "version": "3.8.5"
  }
 },
 "nbformat": 4,
 "nbformat_minor": 4
}
