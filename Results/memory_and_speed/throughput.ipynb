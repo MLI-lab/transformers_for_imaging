{
 "cells": [
  {
   "cell_type": "code",
   "execution_count": 1,
   "metadata": {},
   "outputs": [],
   "source": [
    "import numpy as np\n",
    "from matplotlib import pyplot as plt\n",
    "plt.style.use('../styles_and_utils/graphstyle.mplstyle')\n",
    "\n",
    "import sys\n",
    "sys.path.insert(1, '../')\n",
    "from styles_and_utils import *"
   ]
  },
  {
   "cell_type": "code",
   "execution_count": 2,
   "metadata": {},
   "outputs": [],
   "source": [
    "# pandas\n",
    "import pandas as pd\n",
    "def df2np(df, model,):\n",
    "    df = df.loc[df['Model'] == model].iloc[0,1:]\n",
    "    x = df.to_numpy().astype(float).T\n",
    "    return x\n",
    "\n",
    "# Load Knee results\n",
    "df = pd.read_excel('./data/throughput.xlsx')\n",
    "\n",
    "unt_008M = df2np(df, 'U-Net-8M')\n",
    "unt_031M = df2np(df, 'U-Net-31M')\n",
    "unt_124M = df2np(df, 'U-Net-124M')\n",
    "\n",
    "vit_008M = df2np(df, 'ViT-8M/10')\n",
    "vit_032M = df2np(df, 'ViT-32M/10')\n",
    "vit_060M = df2np(df, 'ViT-60M/10')\n"
   ]
  },
  {
   "cell_type": "code",
   "execution_count": 23,
   "metadata": {},
   "outputs": [
    {
     "data": {
      "image/png": "[encoded data removed]",
      "text/plain": [
       "<Figure size 311.04x226.8 with 1 Axes>"
      ]
     },
     "metadata": {
      "needs_background": "light"
     },
     "output_type": "display_data"
    }
   ],
   "source": [
    "w, h = plt.rcParams[\"figure.figsize\"]\n",
    "fig, ax = plt.subplots(1, 1, figsize=(0.6*w, 0.7*h))\n",
    "\n",
    "\"\"\" Model styles \"\"\"\n",
    "vits = ViT('s', useline=False)\n",
    "vitm = ViT('m', useline=False)\n",
    "vitl = ViT('l', useline=False)\n",
    "\n",
    "unts = Unet('s', useline=False)\n",
    "untm = Unet('m', useline=False)\n",
    "untl = Unet('l', useline=False)\n",
    "\n",
    "alpha = 1\n",
    "\n",
    "\"\"\" Test throughput \"\"\"\n",
    "# ax = axes[0]\n",
    "# ax.bar('S', vit_008M[1], color = vits.color, alpha=alpha,)\n",
    "# ax.bar('S ', unt_008M[1], color = unts.color, alpha=alpha,)\n",
    "ax.bar('ViT-M',vit_032M[1], color = vitm.color, alpha=alpha, label='ViT')\n",
    "ax.bar('Unet-M ', unt_031M[1], color = untm.color, alpha=alpha, label='U-Net')\n",
    "ax.bar('ViT-L',vit_060M[1], color = vitl.color, alpha=alpha)\n",
    "ax.bar('Unet-L ',unt_124M[1], color = untl.color, alpha=alpha)\n",
    "# ax.set_xticks([])\n",
    "# ax.set_xlabel('Model variant')\n",
    "ax.set_ylabel('Images per second')\n",
    "ax.set_title('Throughput')\n",
    "# ax.legend()\n",
    "\n",
    "# handles, labels = ax.get_legend_handles_labels()\n",
    "\n",
    "## Save\n",
    "fig.savefig('./plots/speed.pdf', format=\"pdf\", bbox_inches = 'tight')"
   ]
  },
  {
   "cell_type": "code",
   "execution_count": 24,
   "metadata": {},
   "outputs": [
    {
     "data": {
      "image/png": "[encoded data removed]",
      "text/plain": [
       "<Figure size 311.04x226.8 with 1 Axes>"
      ]
     },
     "metadata": {
      "needs_background": "light"
     },
     "output_type": "display_data"
    }
   ],
   "source": [
    "w, h = plt.rcParams[\"figure.figsize\"]\n",
    "fig, ax = plt.subplots(1, 1, figsize=(0.6*w, 0.7*h))\n",
    "\n",
    "\"\"\" Model styles \"\"\"\n",
    "vits = ViT('s', useline=False)\n",
    "vitm = ViT('m', useline=False)\n",
    "vitl = ViT('l', useline=False)\n",
    "\n",
    "unts = Unet('s', useline=False)\n",
    "untm = Unet('m', useline=False)\n",
    "untl = Unet('l', useline=False)\n",
    "\n",
    "alpha = 1\n",
    "\n",
    "\"\"\" Test CPU \"\"\"\n",
    "# ax.bar('S' , vit_008M[-1], color = vits.color, alpha=alpha,)\n",
    "# ax.bar('S ', unt_008M[-1], color = unts.color, alpha=alpha,)\n",
    "ax.bar('ViT-M', vit_032M[-1], color = vitm.color, alpha=alpha, label='ViT')\n",
    "ax.bar('Unet-M ', unt_031M[-1], color = untm.color, alpha=alpha, label='U-Net')\n",
    "ax.bar('ViT-L', vit_060M[-1], color = vitl.color, alpha=alpha, )\n",
    "ax.bar('Unet-L', unt_124M[-1], color = untl.color, alpha=alpha, )\n",
    "# ax.set_xlabel('Model variant')\n",
    "ax.set_ylabel('Maximal batch size')\n",
    "ax.set_title('Memory')\n",
    "# ax.yaxis.set_ticks(np.arange(0, 510, 100))\n",
    "# ax.set_yticks([0, 200, 400, 600])\n",
    "# ax.legend()\n",
    "\n",
    "# handles, labels = ax.get_legend_handles_labels()\n",
    "\n",
    "## Save\n",
    "fig.savefig('./plots/memory.pdf', format=\"pdf\", bbox_inches = 'tight')"
   ]
  }
 ],
 "metadata": {
  "kernelspec": {
   "display_name": "Python 3",
   "language": "python",
   "name": "python3"
  },
  "language_info": {
   "codemirror_mode": {
    "name": "ipython",
    "version": 3
   },
   "file_extension": ".py",
   "mimetype": "text/x-python",
   "name": "python",
   "nbconvert_exporter": "python",
   "pygments_lexer": "ipython3",
   "version": "3.8.5"
  }
 },
 "nbformat": 4,
 "nbformat_minor": 4
}
