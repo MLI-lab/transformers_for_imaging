{
 "cells": [
  {
   "cell_type": "code",
   "execution_count": 3,
   "metadata": {},
   "outputs": [],
   "source": [
    "import numpy as np\n",
    "from matplotlib import pyplot as plt\n",
    "plt.style.use('../styles_and_utils/graphstyle.mplstyle')\n",
    "\n",
    "import sys\n",
    "sys.path.insert(1, '../')\n",
    "from styles_and_utils import *"
   ]
  },
  {
   "cell_type": "code",
   "execution_count": 4,
   "metadata": {},
   "outputs": [],
   "source": [
    "# pandas\n",
    "import pandas as pd\n",
    "def df2np(df, data, model):\n",
    "    if data == 35:\n",
    "        df = df[(df['Model'] == model) & (df['Data in k'] == 35)].iloc[0,2::2]\n",
    "    if data == 70:\n",
    "        df = df[(df['Model'] == model) & (df['Data in k'] == 70)].iloc[0,3::2]\n",
    "    return df.to_numpy().astype(float)\n",
    "\n",
    "# Load validation histories\n",
    "brain_df = pd.read_excel('./data/val_hist_brain.xlsx')\n",
    "\n",
    "data = 70\n",
    "brain70_unt_008M = df2np(brain_df, data, 'U-Net-8M')\n",
    "brain70_unt_124M = df2np(brain_df, data, 'U-Net-124M')\n",
    "brain70_unt_124M[-2:] = brain70_unt_124M[1] # big Unet overfits\n",
    "\n",
    "brain70_vit_008M = df2np(brain_df, data, 'ViT-8M/10')\n",
    "brain70_vit_060M = df2np(brain_df, data, 'ViT-60M/10')\n",
    "\n"
   ]
  },
  {
   "cell_type": "code",
   "execution_count": 5,
   "metadata": {},
   "outputs": [
    {
     "data": {
      "image/png": "[encoded data removed]",
      "text/plain": [
       "<Figure size 518.4x324 with 1 Axes>"
      ]
     },
     "metadata": {
      "needs_background": "light"
     },
     "output_type": "display_data"
    }
   ],
   "source": [
    "fig, ax = plt.subplots()\n",
    "\"\"\" Model styles \"\"\"\n",
    "vits = ViT('s', useline=False)\n",
    "vitm = ViT('m', useline=False)\n",
    "vitl = ViT('l', useline=False)\n",
    "\n",
    "unts = Unet('s', useline=False)\n",
    "untm = Unet('m', useline=False)\n",
    "untl = Unet('l', useline=False)\n",
    "\n",
    "\"\"\" brain \"\"\"\n",
    "# 35k data\n",
    "grad_steps_70k = np.array([10, 20, 30, 40]) # every 10 epochs starting from 5\n",
    "color1 = '#5ab085'\n",
    "alpha = 0.1\n",
    "ax.plot(grad_steps_70k, brain70_vit_060M, vitl.marker, markersize=vitl.ms, alpha=vitl.oc, color=vitl.color, zorder=6)\n",
    "# ax.plot(grad_steps_35k[::2], brain35_vit_032M[::2], vitm.marker, markersize=vitm.ms, alpha=vitm.oc, color=color1, zorder=5)\n",
    "ax.plot(grad_steps_70k, brain70_vit_008M, vits.marker, markersize=vits.ms, alpha=vits.oc, color=vits.color, zorder=4)\n",
    "ax.plot(grad_steps_70k, brain70_unt_124M, untl.marker, markersize=untl.ms, alpha=untl.oc, color=untl.color, zorder=3)\n",
    "ax.plot(grad_steps_70k, brain70_unt_008M, unts.marker, markersize=unts.ms, alpha=unts.oc, color=unts.color, zorder=1)\n",
    "\n",
    "ax.fill_between(grad_steps_70k, brain70_vit_060M, brain70_vit_008M, alpha=alpha, color=vitl.color)\n",
    "ax.fill_between(grad_steps_70k, brain70_unt_124M, brain70_unt_008M, alpha=alpha, color=untl.color)\n",
    "\n",
    "# 17k data\n",
    "# color2 = '#f2834b'\n",
    "# alpha = 0.2\n",
    "# grad_steps_35k = np.array([70, 140, 210, 280]) # every 10 epochs starting from 10\n",
    "# ax.plot([                 ], [                  ], vitl.marker, markersize=vitl.ms, alpha=vitl.oc, color=color2, zorder=6)\n",
    "# ax.plot(grad_steps_35k, brain35_vit_060M, vitl.marker, markersize=vitl.ms, alpha=vitl.oc, color=color2, zorder=5)\n",
    "# ax.plot(grad_steps_35k, brain35_vit_008M, vits.marker, markersize=vits.ms, alpha=vits.oc, color=color2, zorder=4)\n",
    "# ax.plot(grad_steps_35k, brain35_unt_124M, untl.marker, markersize=untl.ms, alpha=untl.oc, color=color2, zorder=3)\n",
    "# ax.plot(grad_steps_35k, brain35_unt_008M, unts.marker, markersize=unts.ms, alpha=unts.oc, color=color2, zorder=1)\n",
    "\n",
    "# ax.fill_between(grad_steps_35k, brain35_unt_124M, brain35_unt_008M, alpha=alpha, color=color2)\n",
    "# ax.fill_between(grad_steps_35k, brain35_vit_060M, brain35_vit_008M, alpha=alpha, color=color2)\n",
    "\n",
    "ax.set_title('Training behavior')\n",
    "ax.set_xticks([10, 20, 30, 40])\n",
    "ax.set_xticklabels(['10', '20', '30', '40'])\n",
    "# ax.yaxis.set_ticks(np.arange(0.725, 0.745, 0.005))\n",
    "# ax.set_ylim([0.7250, 0.745])\n",
    "# ax.set_xlim([50, 300])\n",
    "\n",
    "# Legend\n",
    "# ax.fill_between([], [], [], alpha=2*alpha, color=color2, label='17k data')\n",
    "# ax.fill_between([], [], [], alpha=2*alpha, color=color1, label='35k data')\n",
    "ax.plot([], [], vitl.marker, markersize=vitl.ms, alpha=vitl.oc, color=vitl.color, label = vitl.label, zorder=5)\n",
    "ax.plot([], [], vits.marker, markersize=vits.ms, alpha=vits.oc, color=vitl.color, label = vits.label, zorder=4)\n",
    "ax.plot([], [], untl.marker, markersize=untl.ms, alpha=untl.oc, color=untl.color, label = untl.label, zorder=3)\n",
    "ax.plot([], [], unts.marker, markersize=unts.ms, alpha=unts.oc, color=untl.color, label = unts.label, zorder=1)\n",
    "\n",
    "ax.legend(loc='lower right')\n",
    "\n",
    "ax.set_xlabel('Epochs')\n",
    "ax.set_ylabel('SSIM')\n",
    "\n",
    "fig.savefig('./plots/training_study_brain.pdf')"
   ]
  },
  {
   "cell_type": "code",
   "execution_count": null,
   "metadata": {},
   "outputs": [],
   "source": []
  }
 ],
 "metadata": {
  "kernelspec": {
   "display_name": "Python 3",
   "language": "python",
   "name": "python3"
  },
  "language_info": {
   "codemirror_mode": {
    "name": "ipython",
    "version": 3
   },
   "file_extension": ".py",
   "mimetype": "text/x-python",
   "name": "python",
   "nbconvert_exporter": "python",
   "pygments_lexer": "ipython3",
   "version": "3.8.5"
  }
 },
 "nbformat": 4,
 "nbformat_minor": 4
}
