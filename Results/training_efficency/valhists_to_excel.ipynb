{
 "cells": [
  {
   "cell_type": "code",
   "execution_count": 74,
   "metadata": {},
   "outputs": [],
   "source": [
    "import torch\n",
    "import numpy as np\n",
    "import os\n",
    "import pandas as pd"
   ]
  },
  {
   "cell_type": "code",
   "execution_count": 75,
   "metadata": {},
   "outputs": [
    {
     "name": "stdout",
     "output_type": "stream",
     "text": [
      "Unet_124M_17k_val.pt\n",
      "7\n",
      "Unet_124M_35k_val.pt\n",
      "7\n",
      "Unet_31M_17k_val.pt\n",
      "7\n",
      "Unet_31M_35k_val.pt\n",
      "1\n",
      "Unet_8M_17k_val.pt\n",
      "7\n",
      "Unet_8M_35k_val.pt\n",
      "7\n",
      "ViT_MHSAp10_32M_17k_val.pt\n",
      "14\n",
      "ViT_MHSAp10_32M_35k_val.pt\n",
      "14\n",
      "ViT_MHSAp10_60M_35k_val.pt\n",
      "11\n",
      "ViT_MHSAp10_8M_17k_val.pt\n",
      "14\n",
      "ViT_MHSAp10_8M_35k_val.pt\n",
      "10\n"
     ]
    }
   ],
   "source": [
    "# Get filenames from folder\n",
    "path = \"./knee/\"  # multicoil data (from)\n",
    "filenames = []\n",
    "for file in os.listdir(path):\n",
    "    filenames.append(file)\n",
    "    \n",
    "val_hist = []\n",
    "for fname in filenames:\n",
    "    print(fname)\n",
    "    q = 1-np.array(torch.load(path+fname))\n",
    "    print(len(q))\n",
    "    val_hist.append(q)"
   ]
  },
  {
   "cell_type": "code",
   "execution_count": 77,
   "metadata": {},
   "outputs": [
    {
     "data": {
      "text/plain": [
       "array([0.73140186, 0.73771059, 0.74041324, 0.74155197, 0.74238372,\n",
       "       0.74278732, 0.74326984, 0.74359571, 0.74359148, 0.74349363,\n",
       "       0.74362806])"
      ]
     },
     "execution_count": 77,
     "metadata": {},
     "output_type": "execute_result"
    }
   ],
   "source": [
    "val_hist[-3]"
   ]
  },
  {
   "cell_type": "code",
   "execution_count": 61,
   "metadata": {},
   "outputs": [],
   "source": [
    "nans = float('NaN')*np.ones(4)"
   ]
  },
  {
   "cell_type": "code",
   "execution_count": 62,
   "metadata": {},
   "outputs": [],
   "source": [
    "idx = -1\n",
    "val_hist[idx]= np.concatenate((nans, val_hist[idx]))"
   ]
  },
  {
   "cell_type": "code",
   "execution_count": 60,
   "metadata": {},
   "outputs": [
    {
     "data": {
      "text/plain": [
       "14"
      ]
     },
     "execution_count": 60,
     "metadata": {},
     "output_type": "execute_result"
    }
   ],
   "source": [
    "len(val_hist[3])"
   ]
  },
  {
   "cell_type": "code",
   "execution_count": 63,
   "metadata": {},
   "outputs": [],
   "source": [
    "val_hist_np = np.stack(val_hist)"
   ]
  },
  {
   "cell_type": "code",
   "execution_count": 6,
   "metadata": {},
   "outputs": [],
   "source": [
    "import pandas as pd  \n",
    "  \n",
    "# Calling DataFrame constructor  \n",
    "df = pd.DataFrame()"
   ]
  },
  {
   "cell_type": "code",
   "execution_count": 104,
   "metadata": {},
   "outputs": [
    {
     "data": {
      "text/plain": [
       "array([0.73870676, 0.74067936, 0.73715591,        nan, 0.73670412,\n",
       "       0.73760633, 0.72029906, 0.7304472 , 0.71865846,        nan])"
      ]
     },
     "execution_count": 104,
     "metadata": {},
     "output_type": "execute_result"
    }
   ],
   "source": [
    "val_hist_np[:,0]"
   ]
  },
  {
   "cell_type": "code",
   "execution_count": 65,
   "metadata": {},
   "outputs": [],
   "source": [
    "datak = [17, 35, 17, 35, 17, 35, 17, 35, 17, 35]"
   ]
  },
  {
   "cell_type": "code",
   "execution_count": 64,
   "metadata": {},
   "outputs": [],
   "source": [
    "models = [\n",
    "    'U-Net-124M', \n",
    "    'U-Net-124M',     \n",
    "    'U-Net-31M', \n",
    "    'U-Net-31M',   \n",
    "    'U-Net-8M', \n",
    "    'U-Net-8M',    \n",
    "    'ViT-32M/10', \n",
    "    'ViT-32M/10', \n",
    "    'ViT-8M/10', \n",
    "    'ViT-8M/10',     \n",
    "    ]"
   ]
  },
  {
   "cell_type": "code",
   "execution_count": 69,
   "metadata": {},
   "outputs": [],
   "source": [
    "data = {'Model':models, 'Data in k': datak, 'Epoch 5': val_hist_np[:,0], \n",
    "        'Epoch 10': val_hist_np[:,1], 'Epoch 15': val_hist_np[:,2], 'Epoch 20': val_hist_np[:,3], \n",
    "        'Epoch 25': val_hist_np[:,4], 'Epoch 30': val_hist_np[:,5], 'Epoch 35': val_hist_np[:,6], 'Epoch 40': val_hist_np[:,7], \n",
    "        'Epoch 45': val_hist_np[:,8], 'Epoch 50': val_hist_np[:,9], 'Epoch 55': val_hist_np[:,10], 'Epoch 60': val_hist_np[:,11],\n",
    "        'Epoch 65': val_hist_np[:,12], 'Epoch 70': val_hist_np[:,13]}\n",
    "dframe = pd.DataFrame(data)  "
   ]
  },
  {
   "cell_type": "code",
   "execution_count": 71,
   "metadata": {},
   "outputs": [
    {
     "name": "stdout",
     "output_type": "stream",
     "text": [
      "        Model  Data in k   Epoch 5  Epoch 10  Epoch 15  Epoch 20  Epoch 25  \\\n",
      "0  U-Net-124M         17  0.738707  0.740565  0.741389  0.742022  0.742245   \n",
      "1  U-Net-124M         35  0.740679  0.742451  0.742621  0.743642  0.743636   \n",
      "2   U-Net-31M         17  0.737156  0.739929  0.740784  0.741493  0.741766   \n",
      "3   U-Net-31M         35       NaN       NaN       NaN       NaN       NaN   \n",
      "4    U-Net-8M         17  0.736704  0.738558  0.739344  0.740384  0.740602   \n",
      "5    U-Net-8M         35  0.737606  0.740350  0.740922  0.741416  0.741769   \n",
      "6  ViT-32M/10         17  0.720299  0.731087  0.733475  0.735902  0.737018   \n",
      "7  ViT-32M/10         35  0.730447  0.736426  0.739093  0.740435  0.740769   \n",
      "8   ViT-8M/10         17  0.718658  0.727574  0.730888  0.732166  0.733282   \n",
      "9   ViT-8M/10         35       NaN       NaN       NaN       NaN  0.728151   \n",
      "\n",
      "   Epoch 30  Epoch 35  Epoch 40  Epoch 45  Epoch 50  Epoch 55  Epoch 60  \\\n",
      "0  0.741949  0.742486       NaN       NaN       NaN       NaN       NaN   \n",
      "1  0.743659  0.743453       NaN       NaN       NaN       NaN       NaN   \n",
      "2  0.741927  0.742328       NaN       NaN       NaN       NaN       NaN   \n",
      "3       NaN       NaN       NaN       NaN       NaN       NaN       NaN   \n",
      "4  0.740878  0.741370       NaN       NaN       NaN       NaN       NaN   \n",
      "5  0.741927  0.742436       NaN       NaN       NaN       NaN       NaN   \n",
      "6  0.737716  0.738012  0.738300  0.738768  0.739024  0.739376  0.739523   \n",
      "7  0.741670  0.742121  0.742425  0.742737  0.742939  0.743027  0.743039   \n",
      "8  0.734864  0.735560  0.736223  0.736695  0.737119  0.737594  0.737605   \n",
      "9  0.732729  0.735349  0.736524  0.737567  0.737979  0.738385  0.738791   \n",
      "\n",
      "   Epoch 65  Epoch 70  \n",
      "0       NaN       NaN  \n",
      "1       NaN       NaN  \n",
      "2       NaN       NaN  \n",
      "3       NaN  0.742936  \n",
      "4       NaN       NaN  \n",
      "5       NaN       NaN  \n",
      "6  0.740426  0.740333  \n",
      "7  0.743754  0.743747  \n",
      "8  0.739089  0.739141  \n",
      "9  0.739086  0.740213  \n"
     ]
    }
   ],
   "source": [
    "print(dframe)"
   ]
  },
  {
   "cell_type": "code",
   "execution_count": 70,
   "metadata": {},
   "outputs": [],
   "source": [
    "dframe.to_excel('./val_hist.xlsx', index = False)"
   ]
  },
  {
   "cell_type": "code",
   "execution_count": 108,
   "metadata": {},
   "outputs": [
    {
     "name": "stdout",
     "output_type": "stream",
     "text": [
      "Collecting openpyxl\n",
      "  Downloading openpyxl-3.0.8-py2.py3-none-any.whl (244 kB)\n",
      "Collecting et-xmlfile"
     ]
    },
    {
     "name": "stderr",
     "output_type": "stream",
     "text": [
      "WARNING: Ignoring invalid distribution -otli (c:\\users\\kang\\appdata\\roaming\\python\\python38\\site-packages)\n",
      "WARNING: Ignoring invalid distribution -rotli (c:\\users\\kang\\appdata\\roaming\\python\\python38\\site-packages)\n",
      "WARNING: Ignoring invalid distribution - (c:\\users\\kang\\appdata\\roaming\\python\\python38\\site-packages)\n",
      "WARNING: Ignoring invalid distribution -atplotlib (c:\\users\\kang\\appdata\\roaming\\python\\python38\\site-packages)\n",
      "WARNING: Ignoring invalid distribution -otli (c:\\users\\kang\\appdata\\roaming\\python\\python38\\site-packages)\n",
      "WARNING: Ignoring invalid distribution -rotli (c:\\users\\kang\\appdata\\roaming\\python\\python38\\site-packages)\n",
      "WARNING: Ignoring invalid distribution - (c:\\users\\kang\\appdata\\roaming\\python\\python38\\site-packages)\n",
      "WARNING: Ignoring invalid distribution -atplotlib (c:\\users\\kang\\appdata\\roaming\\python\\python38\\site-packages)\n",
      "WARNING: Ignoring invalid distribution -otli (c:\\users\\kang\\appdata\\roaming\\python\\python38\\site-packages)\n",
      "WARNING: Ignoring invalid distribution -rotli (c:\\users\\kang\\appdata\\roaming\\python\\python38\\site-packages)"
     ]
    },
    {
     "name": "stdout",
     "output_type": "stream",
     "text": [
      "\n",
      "  Downloading et_xmlfile-1.1.0-py3-none-any.whl (4.7 kB)\n",
      "Installing collected packages: et-xmlfile, openpyxl\n",
      "Successfully installed et-xmlfile-1.1.0 openpyxl-3.0.8\n"
     ]
    },
    {
     "name": "stderr",
     "output_type": "stream",
     "text": [
      "\n",
      "WARNING: Ignoring invalid distribution - (c:\\users\\kang\\appdata\\roaming\\python\\python38\\site-packages)\n",
      "WARNING: Ignoring invalid distribution -atplotlib (c:\\users\\kang\\appdata\\roaming\\python\\python38\\site-packages)\n",
      "WARNING: Ignoring invalid distribution -otli (c:\\users\\kang\\appdata\\roaming\\python\\python38\\site-packages)\n",
      "WARNING: Ignoring invalid distribution -rotli (c:\\users\\kang\\appdata\\roaming\\python\\python38\\site-packages)\n",
      "WARNING: Ignoring invalid distribution - (c:\\users\\kang\\appdata\\roaming\\python\\python38\\site-packages)\n",
      "WARNING: Ignoring invalid distribution -atplotlib (c:\\users\\kang\\appdata\\roaming\\python\\python38\\site-packages)\n",
      "WARNING: Ignoring invalid distribution -otli (c:\\users\\kang\\appdata\\roaming\\python\\python38\\site-packages)\n",
      "WARNING: Ignoring invalid distribution -rotli (c:\\users\\kang\\appdata\\roaming\\python\\python38\\site-packages)\n",
      "WARNING: Ignoring invalid distribution - (c:\\users\\kang\\appdata\\roaming\\python\\python38\\site-packages)\n",
      "WARNING: Ignoring invalid distribution -atplotlib (c:\\users\\kang\\appdata\\roaming\\python\\python38\\site-packages)\n",
      "WARNING: Ignoring invalid distribution -otli (c:\\users\\kang\\appdata\\roaming\\python\\python38\\site-packages)\n",
      "WARNING: Ignoring invalid distribution -rotli (c:\\users\\kang\\appdata\\roaming\\python\\python38\\site-packages)\n",
      "WARNING: Ignoring invalid distribution - (c:\\users\\kang\\appdata\\roaming\\python\\python38\\site-packages)\n",
      "WARNING: Ignoring invalid distribution -atplotlib (c:\\users\\kang\\appdata\\roaming\\python\\python38\\site-packages)\n",
      "WARNING: You are using pip version 21.1.1; however, version 21.2.4 is available.\n",
      "You should consider upgrading via the 'c:\\users\\kang\\appdata\\local\\programs\\python\\python38\\python.exe -m pip install --upgrade pip' command.\n"
     ]
    }
   ],
   "source": [
    "!pip install openpyxl"
   ]
  }
 ],
 "metadata": {
  "kernelspec": {
   "display_name": "Python 3",
   "language": "python",
   "name": "python3"
  },
  "language_info": {
   "codemirror_mode": {
    "name": "ipython",
    "version": 3
   },
   "file_extension": ".py",
   "mimetype": "text/x-python",
   "name": "python",
   "nbconvert_exporter": "python",
   "pygments_lexer": "ipython3",
   "version": "3.8.5"
  }
 },
 "nbformat": 4,
 "nbformat_minor": 4
}
