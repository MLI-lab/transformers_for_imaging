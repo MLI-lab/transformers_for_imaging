{
 "cells": [
  {
   "cell_type": "code",
   "execution_count": 1,
   "metadata": {},
   "outputs": [],
   "source": [
    "import torch\n",
    "import numpy as np\n",
    "import os\n",
    "import pandas as pd"
   ]
  },
  {
   "cell_type": "code",
   "execution_count": 12,
   "metadata": {},
   "outputs": [
    {
     "name": "stdout",
     "output_type": "stream",
     "text": [
      "Unet_124M_35k_val.pt\n",
      "9\n",
      "Unet_124M_70k_val.pt\n",
      "9\n",
      "Unet_31M_35k_val.pt\n",
      "9\n",
      "Unet_31M_70k_val.pt\n",
      "5\n",
      "Unet_8M_35k_val.pt\n",
      "8\n",
      "Unet_8M_70k_val.pt\n",
      "8\n",
      "ViT_MHSAp10_32M_35k_val.pt\n",
      "9\n",
      "ViT_MHSAp10_32M_70k_val.pt\n",
      "5\n",
      "ViT_MHSAp10_60M_35k_val.pt\n",
      "10\n",
      "ViT_MHSAp10_60M_70k_val.pt\n",
      "9\n",
      "ViT_MHSAp10_8M_35k_val.pt\n",
      "8\n",
      "ViT_MHSAp10_8M_70k_val.pt\n",
      "8\n"
     ]
    }
   ],
   "source": [
    "# Get filenames from folder\n",
    "path = \"./brain/\"  # multicoil data (from)\n",
    "filenames = []\n",
    "for file in os.listdir(path):\n",
    "    filenames.append(file)\n",
    "    \n",
    "val_hist = []\n",
    "for fname in filenames:\n",
    "    print(fname)\n",
    "    q = 1-np.array(torch.load(path+fname))\n",
    "    print(len(q))\n",
    "    val_hist.append(q)"
   ]
  },
  {
   "cell_type": "code",
   "execution_count": 23,
   "metadata": {},
   "outputs": [
    {
     "data": {
      "text/plain": [
       "array([      -inf, 0.81250176, 0.82069345, 0.82293909, 0.82345955,\n",
       "       0.82414766, 0.82453752, 0.82495272, 0.82510632, 0.82525316])"
      ]
     },
     "execution_count": 23,
     "metadata": {},
     "output_type": "execute_result"
    }
   ],
   "source": [
    "from matplotlib import pyplot as plt\n",
    "val_hist[8]"
   ]
  },
  {
   "cell_type": "code",
   "execution_count": 62,
   "metadata": {},
   "outputs": [
    {
     "data": {
      "text/plain": [
       "array([      -inf, 0.82440745, 0.82614121, 0.82662158, 0.82694099,\n",
       "       0.82694306, 0.82692571, 0.82679184, 0.82658413])"
      ]
     },
     "execution_count": 62,
     "metadata": {},
     "output_type": "execute_result"
    }
   ],
   "source": [
    "val_hist[1]"
   ]
  },
  {
   "cell_type": "code",
   "execution_count": 46,
   "metadata": {},
   "outputs": [],
   "source": [
    "val_hist_ = []"
   ]
  },
  {
   "cell_type": "code",
   "execution_count": 55,
   "metadata": {},
   "outputs": [],
   "source": [
    "val_hist_.append(val_hist[11][:])"
   ]
  },
  {
   "cell_type": "code",
   "execution_count": 56,
   "metadata": {},
   "outputs": [
    {
     "data": {
      "text/plain": [
       "[array([0.82254719, 0.82432532, 0.82534031, 0.8257592 , 0.82576407,\n",
       "        0.82574122, 0.82551889, 0.82527426]),\n",
       " array([0.82440745, 0.82614121, 0.82662158, 0.82694099, 0.82694306,\n",
       "        0.82692571, 0.82679184, 0.82658413]),\n",
       " array([0.82052146, 0.82197198, 0.82299277, 0.82332244, 0.82363285,\n",
       "        0.82379985, 0.82389123, 0.82396089]),\n",
       " array([0.8210492 , 0.82321124, 0.82391433, 0.82402646, 0.824442  ,\n",
       "        0.82456649, 0.82471094, 0.82479626]),\n",
       " array([0.82069345, 0.82293909, 0.82345955, 0.82414766, 0.82453752,\n",
       "        0.82495272, 0.82510632, 0.82525316]),\n",
       " array([0.82208091, 0.82467831, 0.82565577, 0.82631242, 0.82674595,\n",
       "        0.82695177, 0.82722603, 0.82738368]),\n",
       " array([0.81111144, 0.81589619, 0.81780464, 0.81889134, 0.81995401,\n",
       "        0.82055195, 0.82106728, 0.82138767]),\n",
       " array([0.81485748, 0.81930406, 0.82058838, 0.8212971 , 0.82169303,\n",
       "        0.82217326, 0.82252203, 0.82277677])]"
      ]
     },
     "execution_count": 56,
     "metadata": {},
     "output_type": "execute_result"
    }
   ],
   "source": [
    "val_hist_"
   ]
  },
  {
   "cell_type": "code",
   "execution_count": 57,
   "metadata": {},
   "outputs": [],
   "source": [
    "val_hist_np = np.stack(val_hist_)"
   ]
  },
  {
   "cell_type": "code",
   "execution_count": 58,
   "metadata": {},
   "outputs": [],
   "source": [
    "import pandas as pd  \n",
    "  \n",
    "# Calling DataFrame constructor  \n",
    "df = pd.DataFrame()"
   ]
  },
  {
   "cell_type": "code",
   "execution_count": 61,
   "metadata": {},
   "outputs": [
    {
     "data": {
      "text/plain": [
       "array([0.82432532, 0.82614121, 0.82197198, 0.82321124, 0.82293909,\n",
       "       0.82467831, 0.81589619, 0.81930406])"
      ]
     },
     "execution_count": 61,
     "metadata": {},
     "output_type": "execute_result"
    }
   ],
   "source": [
    "val_hist_np[:,1]"
   ]
  },
  {
   "cell_type": "code",
   "execution_count": 59,
   "metadata": {},
   "outputs": [],
   "source": [
    "datak = [35, 70, 35, 70, 35, 70, 35, 70,]"
   ]
  },
  {
   "cell_type": "code",
   "execution_count": 64,
   "metadata": {},
   "outputs": [],
   "source": [
    "models = [\n",
    "    'U-Net-124M', \n",
    "    'U-Net-124M',       \n",
    "    'U-Net-8M', \n",
    "    'U-Net-8M',    \n",
    "    'ViT-60M/10', \n",
    "    'ViT-60M/10', \n",
    "    'ViT-8M/10', \n",
    "    'ViT-8M/10',     \n",
    "    ]"
   ]
  },
  {
   "cell_type": "code",
   "execution_count": 65,
   "metadata": {},
   "outputs": [],
   "source": [
    "data = {'Model':models, 'Data in k': datak, 'Epoch 5': val_hist_np[:,0], \n",
    "        'Epoch 10': val_hist_np[:,1], 'Epoch 15': val_hist_np[:,2], 'Epoch 20': val_hist_np[:,3], \n",
    "        'Epoch 25': val_hist_np[:,4], 'Epoch 30': val_hist_np[:,5], 'Epoch 35': val_hist_np[:,6], 'Epoch 40': val_hist_np[:,7],\n",
    "       }\n",
    "dframe = pd.DataFrame(data)  "
   ]
  },
  {
   "cell_type": "code",
   "execution_count": 66,
   "metadata": {},
   "outputs": [
    {
     "name": "stdout",
     "output_type": "stream",
     "text": [
      "        Model  Data in k   Epoch 5  Epoch 10  Epoch 15  Epoch 20  Epoch 25  \\\n",
      "0  U-Net-124M         35  0.822547  0.824325  0.825340  0.825759  0.825764   \n",
      "1  U-Net-124M         70  0.824407  0.826141  0.826622  0.826941  0.826943   \n",
      "2    U-Net-8M         35  0.820521  0.821972  0.822993  0.823322  0.823633   \n",
      "3    U-Net-8M         70  0.821049  0.823211  0.823914  0.824026  0.824442   \n",
      "4  ViT-60M/10         35  0.820693  0.822939  0.823460  0.824148  0.824538   \n",
      "5  ViT-60M/10         70  0.822081  0.824678  0.825656  0.826312  0.826746   \n",
      "6   ViT-8M/10         35  0.811111  0.815896  0.817805  0.818891  0.819954   \n",
      "7   ViT-8M/10         70  0.814857  0.819304  0.820588  0.821297  0.821693   \n",
      "\n",
      "   Epoch 30  Epoch 35  Epoch 40  \n",
      "0  0.825741  0.825519  0.825274  \n",
      "1  0.826926  0.826792  0.826584  \n",
      "2  0.823800  0.823891  0.823961  \n",
      "3  0.824566  0.824711  0.824796  \n",
      "4  0.824953  0.825106  0.825253  \n",
      "5  0.826952  0.827226  0.827384  \n",
      "6  0.820552  0.821067  0.821388  \n",
      "7  0.822173  0.822522  0.822777  \n"
     ]
    }
   ],
   "source": [
    "print(dframe)"
   ]
  },
  {
   "cell_type": "code",
   "execution_count": 67,
   "metadata": {},
   "outputs": [],
   "source": [
    "dframe.to_excel('./val_hist_brain.xlsx', index = False)"
   ]
  },
  {
   "cell_type": "code",
   "execution_count": 108,
   "metadata": {},
   "outputs": [
    {
     "name": "stdout",
     "output_type": "stream",
     "text": [
      "Collecting openpyxl\n",
      "  Downloading openpyxl-3.0.8-py2.py3-none-any.whl (244 kB)\n",
      "Collecting et-xmlfile"
     ]
    },
    {
     "name": "stderr",
     "output_type": "stream",
     "text": [
      "WARNING: Ignoring invalid distribution -otli (c:\\users\\kang\\appdata\\roaming\\python\\python38\\site-packages)\n",
      "WARNING: Ignoring invalid distribution -rotli (c:\\users\\kang\\appdata\\roaming\\python\\python38\\site-packages)\n",
      "WARNING: Ignoring invalid distribution - (c:\\users\\kang\\appdata\\roaming\\python\\python38\\site-packages)\n",
      "WARNING: Ignoring invalid distribution -atplotlib (c:\\users\\kang\\appdata\\roaming\\python\\python38\\site-packages)\n",
      "WARNING: Ignoring invalid distribution -otli (c:\\users\\kang\\appdata\\roaming\\python\\python38\\site-packages)\n",
      "WARNING: Ignoring invalid distribution -rotli (c:\\users\\kang\\appdata\\roaming\\python\\python38\\site-packages)\n",
      "WARNING: Ignoring invalid distribution - (c:\\users\\kang\\appdata\\roaming\\python\\python38\\site-packages)\n",
      "WARNING: Ignoring invalid distribution -atplotlib (c:\\users\\kang\\appdata\\roaming\\python\\python38\\site-packages)\n",
      "WARNING: Ignoring invalid distribution -otli (c:\\users\\kang\\appdata\\roaming\\python\\python38\\site-packages)\n",
      "WARNING: Ignoring invalid distribution -rotli (c:\\users\\kang\\appdata\\roaming\\python\\python38\\site-packages)"
     ]
    },
    {
     "name": "stdout",
     "output_type": "stream",
     "text": [
      "\n",
      "  Downloading et_xmlfile-1.1.0-py3-none-any.whl (4.7 kB)\n",
      "Installing collected packages: et-xmlfile, openpyxl\n",
      "Successfully installed et-xmlfile-1.1.0 openpyxl-3.0.8\n"
     ]
    },
    {
     "name": "stderr",
     "output_type": "stream",
     "text": [
      "\n",
      "WARNING: Ignoring invalid distribution - (c:\\users\\kang\\appdata\\roaming\\python\\python38\\site-packages)\n",
      "WARNING: Ignoring invalid distribution -atplotlib (c:\\users\\kang\\appdata\\roaming\\python\\python38\\site-packages)\n",
      "WARNING: Ignoring invalid distribution -otli (c:\\users\\kang\\appdata\\roaming\\python\\python38\\site-packages)\n",
      "WARNING: Ignoring invalid distribution -rotli (c:\\users\\kang\\appdata\\roaming\\python\\python38\\site-packages)\n",
      "WARNING: Ignoring invalid distribution - (c:\\users\\kang\\appdata\\roaming\\python\\python38\\site-packages)\n",
      "WARNING: Ignoring invalid distribution -atplotlib (c:\\users\\kang\\appdata\\roaming\\python\\python38\\site-packages)\n",
      "WARNING: Ignoring invalid distribution -otli (c:\\users\\kang\\appdata\\roaming\\python\\python38\\site-packages)\n",
      "WARNING: Ignoring invalid distribution -rotli (c:\\users\\kang\\appdata\\roaming\\python\\python38\\site-packages)\n",
      "WARNING: Ignoring invalid distribution - (c:\\users\\kang\\appdata\\roaming\\python\\python38\\site-packages)\n",
      "WARNING: Ignoring invalid distribution -atplotlib (c:\\users\\kang\\appdata\\roaming\\python\\python38\\site-packages)\n",
      "WARNING: Ignoring invalid distribution -otli (c:\\users\\kang\\appdata\\roaming\\python\\python38\\site-packages)\n",
      "WARNING: Ignoring invalid distribution -rotli (c:\\users\\kang\\appdata\\roaming\\python\\python38\\site-packages)\n",
      "WARNING: Ignoring invalid distribution - (c:\\users\\kang\\appdata\\roaming\\python\\python38\\site-packages)\n",
      "WARNING: Ignoring invalid distribution -atplotlib (c:\\users\\kang\\appdata\\roaming\\python\\python38\\site-packages)\n",
      "WARNING: You are using pip version 21.1.1; however, version 21.2.4 is available.\n",
      "You should consider upgrading via the 'c:\\users\\kang\\appdata\\local\\programs\\python\\python38\\python.exe -m pip install --upgrade pip' command.\n"
     ]
    }
   ],
   "source": [
    "!pip install openpyxl"
   ]
  }
 ],
 "metadata": {
  "kernelspec": {
   "display_name": "Python 3",
   "language": "python",
   "name": "python3"
  },
  "language_info": {
   "codemirror_mode": {
    "name": "ipython",
    "version": 3
   },
   "file_extension": ".py",
   "mimetype": "text/x-python",
   "name": "python",
   "nbconvert_exporter": "python",
   "pygments_lexer": "ipython3",
   "version": "3.8.5"
  }
 },
 "nbformat": 4,
 "nbformat_minor": 4
}
